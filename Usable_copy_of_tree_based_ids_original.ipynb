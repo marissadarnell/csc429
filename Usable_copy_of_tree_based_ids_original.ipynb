{
  "cells": [
    {
      "cell_type": "markdown",
      "metadata": {
        "id": "view-in-github",
        "colab_type": "text"
      },
      "source": [
        "<a href=\"https://colab.research.google.com/github/marissadarnell/csc429/blob/main/Usable_copy_of_tree_based_ids_original.ipynb\" target=\"_parent\"><img src=\"https://colab.research.google.com/assets/colab-badge.svg\" alt=\"Open In Colab\"/></a>"
      ]
    },
    {
      "cell_type": "code",
      "source": [
        "from google.colab import drive\n",
        "drive.mount('/content/drive')"
      ],
      "metadata": {
        "id": "0vtV7E7mVSfe",
        "outputId": "e0640cf4-b3c1-4c96-e32a-37f724f5cbb5",
        "colab": {
          "base_uri": "https://localhost:8080/"
        }
      },
      "execution_count": 2,
      "outputs": [
        {
          "output_type": "stream",
          "name": "stdout",
          "text": [
            "Mounted at /content/drive\n"
          ]
        }
      ]
    },
    {
      "cell_type": "markdown",
      "metadata": {
        "id": "6qLWD_sLVGQs"
      },
      "source": [
        "# Tree-Based Intelligent Intrusion Detection System in Internet of Vehicles \n",
        "This is the code for the paper entitled \"[**Tree-Based Intelligent Intrusion Detection System in Internet of Vehicles**](https://arxiv.org/pdf/1910.08635.pdf)\" published in IEEE GlobeCom 2019.  \n",
        "Authors: Li Yang (liyanghart@gmail.com), Abdallah Moubayed, Ismail Hamieh, and Abdallah Shami  \n",
        "Organization: The Optimized Computing and Communications (OC2) Lab, ECE Department, Western University\n",
        "\n",
        "If you find this repository useful in your research, please cite:  \n",
        "L. Yang, A. Moubayed, I. Hamieh and A. Shami, \"Tree-Based Intelligent Intrusion Detection System in Internet of Vehicles,\" 2019 IEEE Global Communications Conference (GLOBECOM), 2019, pp. 1-6, doi: 10.1109/GLOBECOM38437.2019.9013892.  "
      ]
    },
    {
      "cell_type": "markdown",
      "metadata": {
        "id": "V3nqrxzwVGQt"
      },
      "source": [
        "## Import libraries"
      ]
    },
    {
      "cell_type": "code",
      "execution_count": 3,
      "metadata": {
        "collapsed": true,
        "id": "k8zgpp_QVGQt"
      },
      "outputs": [],
      "source": [
        "import warnings\n",
        "warnings.filterwarnings(\"ignore\")"
      ]
    },
    {
      "cell_type": "code",
      "execution_count": 4,
      "metadata": {
        "id": "N0cjYCIpVGQt"
      },
      "outputs": [],
      "source": [
        "import numpy as np\n",
        "import pandas as pd\n",
        "import seaborn as sns\n",
        "import matplotlib.pyplot as plt\n",
        "from sklearn.preprocessing import LabelEncoder \n",
        "from sklearn.model_selection import train_test_split\n",
        "from sklearn.metrics import classification_report,confusion_matrix,accuracy_score,precision_recall_fscore_support\n",
        "from sklearn.metrics import f1_score\n",
        "from sklearn.ensemble import RandomForestClassifier,ExtraTreesClassifier\n",
        "from sklearn.tree import DecisionTreeClassifier\n",
        "import xgboost as xgb\n",
        "from xgboost import plot_importance"
      ]
    },
    {
      "cell_type": "markdown",
      "metadata": {
        "id": "xiT1OBZkVGQt"
      },
      "source": [
        "## Read the sampled CICIDS2017 dataset\n",
        "The CICIDS2017 dataset is publicly available at: https://www.unb.ca/cic/datasets/ids-2017.html  \n",
        "Due to the large size of this dataset, the sampled subsets of CICIDS2017 is used. The subsets are in the \"data\" folder.  \n",
        "If you want to use this code on other datasets (e.g., CAN-intrusion dataset), just change the dataset name and follow the same steps. The models in this code are generic models that can be used in any intrusion detection/network traffic datasets."
      ]
    },
    {
      "cell_type": "code",
      "execution_count": 5,
      "metadata": {
        "id": "Aix2SN8FVGQt"
      },
      "outputs": [],
      "source": [
        "#Read dataset\n",
        "df = pd.read_csv('./data/CICIDS2017_sample.csv')\n",
        "# The results in this code is based on the original CICIDS2017 dataset. Please go to cell [10] if you work on the sampled dataset. "
      ]
    },
    {
      "cell_type": "code",
      "execution_count": 6,
      "metadata": {
        "id": "d2b62mQbVGQt",
        "outputId": "cdf83fe0-e052-45a4-98a4-62e7db0f198f",
        "colab": {
          "base_uri": "https://localhost:8080/",
          "height": 540
        }
      },
      "outputs": [
        {
          "output_type": "execute_result",
          "data": {
            "text/plain": [
              "       Flow Duration  Total Fwd Packets  Total Backward Packets  \\\n",
              "0                  4                  2                       0   \n",
              "1             142377                 46                      62   \n",
              "2             118873                 23                      28   \n",
              "3             143577                 43                      55   \n",
              "4             143745                 49                      59   \n",
              "...              ...                ...                     ...   \n",
              "56656            234                  2                       2   \n",
              "56657         133288                  2                       2   \n",
              "56658       11507694                  5                       4   \n",
              "56659       11507707                  8                       6   \n",
              "56660       11512204                  8                       5   \n",
              "\n",
              "       Total Length of Fwd Packets  Total Length of Bwd Packets  \\\n",
              "0                               37                            0   \n",
              "1                             1325                       105855   \n",
              "2                             1169                        45025   \n",
              "3                             1301                       107289   \n",
              "4                             1331                       110185   \n",
              "...                            ...                          ...   \n",
              "56656                           64                          232   \n",
              "56657                           94                          482   \n",
              "56658                          450                         3525   \n",
              "56659                          416                        11632   \n",
              "56660                          326                        11632   \n",
              "\n",
              "       Fwd Packet Length Max  Fwd Packet Length Min  Fwd Packet Length Mean  \\\n",
              "0                         31                      6               18.500000   \n",
              "1                        570                      0               28.804348   \n",
              "2                        570                      0               50.826087   \n",
              "3                        570                      0               30.255814   \n",
              "4                        570                      0               27.163265   \n",
              "...                      ...                    ...                     ...   \n",
              "56656                     32                     32               32.000000   \n",
              "56657                     47                     47               47.000000   \n",
              "56658                    450                      0               90.000000   \n",
              "56659                    416                      0               52.000000   \n",
              "56660                    326                      0               40.750000   \n",
              "\n",
              "       Fwd Packet Length Std  Bwd Packet Length Max  ...  \\\n",
              "0                  17.677670                      0  ...   \n",
              "1                 111.407285                   4344  ...   \n",
              "2                 156.137367                   2896  ...   \n",
              "3                 115.178969                   4344  ...   \n",
              "4                 108.067176                   4344  ...   \n",
              "...                      ...                    ...  ...   \n",
              "56656               0.000000                    116  ...   \n",
              "56657               0.000000                    241  ...   \n",
              "56658             201.246118                   3525  ...   \n",
              "56659             147.078211                   5792  ...   \n",
              "56660             115.258405                  10184  ...   \n",
              "\n",
              "       min_seg_size_forward  Active Mean  Active Std  Active Max  Active Min  \\\n",
              "0                        20          0.0         0.0           0           0   \n",
              "1                        20          0.0         0.0           0           0   \n",
              "2                        32          0.0         0.0           0           0   \n",
              "3                        20          0.0         0.0           0           0   \n",
              "4                        20          0.0         0.0           0           0   \n",
              "...                     ...          ...         ...         ...         ...   \n",
              "56656                    32          0.0         0.0           0           0   \n",
              "56657                    32          0.0         0.0           0           0   \n",
              "56658                    32        893.0         0.0         893         893   \n",
              "56659                    32        897.0         0.0         897         897   \n",
              "56660                    32        892.0         0.0         892         892   \n",
              "\n",
              "       Idle Mean  Idle Std  Idle Max  Idle Min   Label  \n",
              "0            0.0       0.0         0         0  BENIGN  \n",
              "1            0.0       0.0         0         0  BENIGN  \n",
              "2            0.0       0.0         0         0  BENIGN  \n",
              "3            0.0       0.0         0         0  BENIGN  \n",
              "4            0.0       0.0         0         0  BENIGN  \n",
              "...          ...       ...       ...       ...     ...  \n",
              "56656        0.0       0.0         0         0  BENIGN  \n",
              "56657        0.0       0.0         0         0  BENIGN  \n",
              "56658  6503640.0       0.0   6503640   6503640     DoS  \n",
              "56659  6503122.0       0.0   6503122   6503122     DoS  \n",
              "56660  6507197.0       0.0   6507197   6507197     DoS  \n",
              "\n",
              "[56661 rows x 78 columns]"
            ],
            "text/html": [
              "\n",
              "  <div id=\"df-75a67a38-1d86-4cad-927d-f50efa4661b6\">\n",
              "    <div class=\"colab-df-container\">\n",
              "      <div>\n",
              "<style scoped>\n",
              "    .dataframe tbody tr th:only-of-type {\n",
              "        vertical-align: middle;\n",
              "    }\n",
              "\n",
              "    .dataframe tbody tr th {\n",
              "        vertical-align: top;\n",
              "    }\n",
              "\n",
              "    .dataframe thead th {\n",
              "        text-align: right;\n",
              "    }\n",
              "</style>\n",
              "<table border=\"1\" class=\"dataframe\">\n",
              "  <thead>\n",
              "    <tr style=\"text-align: right;\">\n",
              "      <th></th>\n",
              "      <th>Flow Duration</th>\n",
              "      <th>Total Fwd Packets</th>\n",
              "      <th>Total Backward Packets</th>\n",
              "      <th>Total Length of Fwd Packets</th>\n",
              "      <th>Total Length of Bwd Packets</th>\n",
              "      <th>Fwd Packet Length Max</th>\n",
              "      <th>Fwd Packet Length Min</th>\n",
              "      <th>Fwd Packet Length Mean</th>\n",
              "      <th>Fwd Packet Length Std</th>\n",
              "      <th>Bwd Packet Length Max</th>\n",
              "      <th>...</th>\n",
              "      <th>min_seg_size_forward</th>\n",
              "      <th>Active Mean</th>\n",
              "      <th>Active Std</th>\n",
              "      <th>Active Max</th>\n",
              "      <th>Active Min</th>\n",
              "      <th>Idle Mean</th>\n",
              "      <th>Idle Std</th>\n",
              "      <th>Idle Max</th>\n",
              "      <th>Idle Min</th>\n",
              "      <th>Label</th>\n",
              "    </tr>\n",
              "  </thead>\n",
              "  <tbody>\n",
              "    <tr>\n",
              "      <th>0</th>\n",
              "      <td>4</td>\n",
              "      <td>2</td>\n",
              "      <td>0</td>\n",
              "      <td>37</td>\n",
              "      <td>0</td>\n",
              "      <td>31</td>\n",
              "      <td>6</td>\n",
              "      <td>18.500000</td>\n",
              "      <td>17.677670</td>\n",
              "      <td>0</td>\n",
              "      <td>...</td>\n",
              "      <td>20</td>\n",
              "      <td>0.0</td>\n",
              "      <td>0.0</td>\n",
              "      <td>0</td>\n",
              "      <td>0</td>\n",
              "      <td>0.0</td>\n",
              "      <td>0.0</td>\n",
              "      <td>0</td>\n",
              "      <td>0</td>\n",
              "      <td>BENIGN</td>\n",
              "    </tr>\n",
              "    <tr>\n",
              "      <th>1</th>\n",
              "      <td>142377</td>\n",
              "      <td>46</td>\n",
              "      <td>62</td>\n",
              "      <td>1325</td>\n",
              "      <td>105855</td>\n",
              "      <td>570</td>\n",
              "      <td>0</td>\n",
              "      <td>28.804348</td>\n",
              "      <td>111.407285</td>\n",
              "      <td>4344</td>\n",
              "      <td>...</td>\n",
              "      <td>20</td>\n",
              "      <td>0.0</td>\n",
              "      <td>0.0</td>\n",
              "      <td>0</td>\n",
              "      <td>0</td>\n",
              "      <td>0.0</td>\n",
              "      <td>0.0</td>\n",
              "      <td>0</td>\n",
              "      <td>0</td>\n",
              "      <td>BENIGN</td>\n",
              "    </tr>\n",
              "    <tr>\n",
              "      <th>2</th>\n",
              "      <td>118873</td>\n",
              "      <td>23</td>\n",
              "      <td>28</td>\n",
              "      <td>1169</td>\n",
              "      <td>45025</td>\n",
              "      <td>570</td>\n",
              "      <td>0</td>\n",
              "      <td>50.826087</td>\n",
              "      <td>156.137367</td>\n",
              "      <td>2896</td>\n",
              "      <td>...</td>\n",
              "      <td>32</td>\n",
              "      <td>0.0</td>\n",
              "      <td>0.0</td>\n",
              "      <td>0</td>\n",
              "      <td>0</td>\n",
              "      <td>0.0</td>\n",
              "      <td>0.0</td>\n",
              "      <td>0</td>\n",
              "      <td>0</td>\n",
              "      <td>BENIGN</td>\n",
              "    </tr>\n",
              "    <tr>\n",
              "      <th>3</th>\n",
              "      <td>143577</td>\n",
              "      <td>43</td>\n",
              "      <td>55</td>\n",
              "      <td>1301</td>\n",
              "      <td>107289</td>\n",
              "      <td>570</td>\n",
              "      <td>0</td>\n",
              "      <td>30.255814</td>\n",
              "      <td>115.178969</td>\n",
              "      <td>4344</td>\n",
              "      <td>...</td>\n",
              "      <td>20</td>\n",
              "      <td>0.0</td>\n",
              "      <td>0.0</td>\n",
              "      <td>0</td>\n",
              "      <td>0</td>\n",
              "      <td>0.0</td>\n",
              "      <td>0.0</td>\n",
              "      <td>0</td>\n",
              "      <td>0</td>\n",
              "      <td>BENIGN</td>\n",
              "    </tr>\n",
              "    <tr>\n",
              "      <th>4</th>\n",
              "      <td>143745</td>\n",
              "      <td>49</td>\n",
              "      <td>59</td>\n",
              "      <td>1331</td>\n",
              "      <td>110185</td>\n",
              "      <td>570</td>\n",
              "      <td>0</td>\n",
              "      <td>27.163265</td>\n",
              "      <td>108.067176</td>\n",
              "      <td>4344</td>\n",
              "      <td>...</td>\n",
              "      <td>20</td>\n",
              "      <td>0.0</td>\n",
              "      <td>0.0</td>\n",
              "      <td>0</td>\n",
              "      <td>0</td>\n",
              "      <td>0.0</td>\n",
              "      <td>0.0</td>\n",
              "      <td>0</td>\n",
              "      <td>0</td>\n",
              "      <td>BENIGN</td>\n",
              "    </tr>\n",
              "    <tr>\n",
              "      <th>...</th>\n",
              "      <td>...</td>\n",
              "      <td>...</td>\n",
              "      <td>...</td>\n",
              "      <td>...</td>\n",
              "      <td>...</td>\n",
              "      <td>...</td>\n",
              "      <td>...</td>\n",
              "      <td>...</td>\n",
              "      <td>...</td>\n",
              "      <td>...</td>\n",
              "      <td>...</td>\n",
              "      <td>...</td>\n",
              "      <td>...</td>\n",
              "      <td>...</td>\n",
              "      <td>...</td>\n",
              "      <td>...</td>\n",
              "      <td>...</td>\n",
              "      <td>...</td>\n",
              "      <td>...</td>\n",
              "      <td>...</td>\n",
              "      <td>...</td>\n",
              "    </tr>\n",
              "    <tr>\n",
              "      <th>56656</th>\n",
              "      <td>234</td>\n",
              "      <td>2</td>\n",
              "      <td>2</td>\n",
              "      <td>64</td>\n",
              "      <td>232</td>\n",
              "      <td>32</td>\n",
              "      <td>32</td>\n",
              "      <td>32.000000</td>\n",
              "      <td>0.000000</td>\n",
              "      <td>116</td>\n",
              "      <td>...</td>\n",
              "      <td>32</td>\n",
              "      <td>0.0</td>\n",
              "      <td>0.0</td>\n",
              "      <td>0</td>\n",
              "      <td>0</td>\n",
              "      <td>0.0</td>\n",
              "      <td>0.0</td>\n",
              "      <td>0</td>\n",
              "      <td>0</td>\n",
              "      <td>BENIGN</td>\n",
              "    </tr>\n",
              "    <tr>\n",
              "      <th>56657</th>\n",
              "      <td>133288</td>\n",
              "      <td>2</td>\n",
              "      <td>2</td>\n",
              "      <td>94</td>\n",
              "      <td>482</td>\n",
              "      <td>47</td>\n",
              "      <td>47</td>\n",
              "      <td>47.000000</td>\n",
              "      <td>0.000000</td>\n",
              "      <td>241</td>\n",
              "      <td>...</td>\n",
              "      <td>32</td>\n",
              "      <td>0.0</td>\n",
              "      <td>0.0</td>\n",
              "      <td>0</td>\n",
              "      <td>0</td>\n",
              "      <td>0.0</td>\n",
              "      <td>0.0</td>\n",
              "      <td>0</td>\n",
              "      <td>0</td>\n",
              "      <td>BENIGN</td>\n",
              "    </tr>\n",
              "    <tr>\n",
              "      <th>56658</th>\n",
              "      <td>11507694</td>\n",
              "      <td>5</td>\n",
              "      <td>4</td>\n",
              "      <td>450</td>\n",
              "      <td>3525</td>\n",
              "      <td>450</td>\n",
              "      <td>0</td>\n",
              "      <td>90.000000</td>\n",
              "      <td>201.246118</td>\n",
              "      <td>3525</td>\n",
              "      <td>...</td>\n",
              "      <td>32</td>\n",
              "      <td>893.0</td>\n",
              "      <td>0.0</td>\n",
              "      <td>893</td>\n",
              "      <td>893</td>\n",
              "      <td>6503640.0</td>\n",
              "      <td>0.0</td>\n",
              "      <td>6503640</td>\n",
              "      <td>6503640</td>\n",
              "      <td>DoS</td>\n",
              "    </tr>\n",
              "    <tr>\n",
              "      <th>56659</th>\n",
              "      <td>11507707</td>\n",
              "      <td>8</td>\n",
              "      <td>6</td>\n",
              "      <td>416</td>\n",
              "      <td>11632</td>\n",
              "      <td>416</td>\n",
              "      <td>0</td>\n",
              "      <td>52.000000</td>\n",
              "      <td>147.078211</td>\n",
              "      <td>5792</td>\n",
              "      <td>...</td>\n",
              "      <td>32</td>\n",
              "      <td>897.0</td>\n",
              "      <td>0.0</td>\n",
              "      <td>897</td>\n",
              "      <td>897</td>\n",
              "      <td>6503122.0</td>\n",
              "      <td>0.0</td>\n",
              "      <td>6503122</td>\n",
              "      <td>6503122</td>\n",
              "      <td>DoS</td>\n",
              "    </tr>\n",
              "    <tr>\n",
              "      <th>56660</th>\n",
              "      <td>11512204</td>\n",
              "      <td>8</td>\n",
              "      <td>5</td>\n",
              "      <td>326</td>\n",
              "      <td>11632</td>\n",
              "      <td>326</td>\n",
              "      <td>0</td>\n",
              "      <td>40.750000</td>\n",
              "      <td>115.258405</td>\n",
              "      <td>10184</td>\n",
              "      <td>...</td>\n",
              "      <td>32</td>\n",
              "      <td>892.0</td>\n",
              "      <td>0.0</td>\n",
              "      <td>892</td>\n",
              "      <td>892</td>\n",
              "      <td>6507197.0</td>\n",
              "      <td>0.0</td>\n",
              "      <td>6507197</td>\n",
              "      <td>6507197</td>\n",
              "      <td>DoS</td>\n",
              "    </tr>\n",
              "  </tbody>\n",
              "</table>\n",
              "<p>56661 rows × 78 columns</p>\n",
              "</div>\n",
              "      <button class=\"colab-df-convert\" onclick=\"convertToInteractive('df-75a67a38-1d86-4cad-927d-f50efa4661b6')\"\n",
              "              title=\"Convert this dataframe to an interactive table.\"\n",
              "              style=\"display:none;\">\n",
              "        \n",
              "  <svg xmlns=\"http://www.w3.org/2000/svg\" height=\"24px\"viewBox=\"0 0 24 24\"\n",
              "       width=\"24px\">\n",
              "    <path d=\"M0 0h24v24H0V0z\" fill=\"none\"/>\n",
              "    <path d=\"M18.56 5.44l.94 2.06.94-2.06 2.06-.94-2.06-.94-.94-2.06-.94 2.06-2.06.94zm-11 1L8.5 8.5l.94-2.06 2.06-.94-2.06-.94L8.5 2.5l-.94 2.06-2.06.94zm10 10l.94 2.06.94-2.06 2.06-.94-2.06-.94-.94-2.06-.94 2.06-2.06.94z\"/><path d=\"M17.41 7.96l-1.37-1.37c-.4-.4-.92-.59-1.43-.59-.52 0-1.04.2-1.43.59L10.3 9.45l-7.72 7.72c-.78.78-.78 2.05 0 2.83L4 21.41c.39.39.9.59 1.41.59.51 0 1.02-.2 1.41-.59l7.78-7.78 2.81-2.81c.8-.78.8-2.07 0-2.86zM5.41 20L4 18.59l7.72-7.72 1.47 1.35L5.41 20z\"/>\n",
              "  </svg>\n",
              "      </button>\n",
              "      \n",
              "  <style>\n",
              "    .colab-df-container {\n",
              "      display:flex;\n",
              "      flex-wrap:wrap;\n",
              "      gap: 12px;\n",
              "    }\n",
              "\n",
              "    .colab-df-convert {\n",
              "      background-color: #E8F0FE;\n",
              "      border: none;\n",
              "      border-radius: 50%;\n",
              "      cursor: pointer;\n",
              "      display: none;\n",
              "      fill: #1967D2;\n",
              "      height: 32px;\n",
              "      padding: 0 0 0 0;\n",
              "      width: 32px;\n",
              "    }\n",
              "\n",
              "    .colab-df-convert:hover {\n",
              "      background-color: #E2EBFA;\n",
              "      box-shadow: 0px 1px 2px rgba(60, 64, 67, 0.3), 0px 1px 3px 1px rgba(60, 64, 67, 0.15);\n",
              "      fill: #174EA6;\n",
              "    }\n",
              "\n",
              "    [theme=dark] .colab-df-convert {\n",
              "      background-color: #3B4455;\n",
              "      fill: #D2E3FC;\n",
              "    }\n",
              "\n",
              "    [theme=dark] .colab-df-convert:hover {\n",
              "      background-color: #434B5C;\n",
              "      box-shadow: 0px 1px 3px 1px rgba(0, 0, 0, 0.15);\n",
              "      filter: drop-shadow(0px 1px 2px rgba(0, 0, 0, 0.3));\n",
              "      fill: #FFFFFF;\n",
              "    }\n",
              "  </style>\n",
              "\n",
              "      <script>\n",
              "        const buttonEl =\n",
              "          document.querySelector('#df-75a67a38-1d86-4cad-927d-f50efa4661b6 button.colab-df-convert');\n",
              "        buttonEl.style.display =\n",
              "          google.colab.kernel.accessAllowed ? 'block' : 'none';\n",
              "\n",
              "        async function convertToInteractive(key) {\n",
              "          const element = document.querySelector('#df-75a67a38-1d86-4cad-927d-f50efa4661b6');\n",
              "          const dataTable =\n",
              "            await google.colab.kernel.invokeFunction('convertToInteractive',\n",
              "                                                     [key], {});\n",
              "          if (!dataTable) return;\n",
              "\n",
              "          const docLinkHtml = 'Like what you see? Visit the ' +\n",
              "            '<a target=\"_blank\" href=https://colab.research.google.com/notebooks/data_table.ipynb>data table notebook</a>'\n",
              "            + ' to learn more about interactive tables.';\n",
              "          element.innerHTML = '';\n",
              "          dataTable['output_type'] = 'display_data';\n",
              "          await google.colab.output.renderOutput(dataTable, element);\n",
              "          const docLink = document.createElement('div');\n",
              "          docLink.innerHTML = docLinkHtml;\n",
              "          element.appendChild(docLink);\n",
              "        }\n",
              "      </script>\n",
              "    </div>\n",
              "  </div>\n",
              "  "
            ]
          },
          "metadata": {},
          "execution_count": 6
        }
      ],
      "source": [
        "df"
      ]
    },
    {
      "cell_type": "markdown",
      "source": [
        "Get the counts for each type of traffic that was labeled in the dataset:"
      ],
      "metadata": {
        "id": "BugUshAMW4IH"
      }
    },
    {
      "cell_type": "code",
      "execution_count": 7,
      "metadata": {
        "id": "AsQOaj5MVGQu",
        "outputId": "b0b3e257-b708-496a-bcd0-bc28a36965fb",
        "colab": {
          "base_uri": "https://localhost:8080/"
        }
      },
      "outputs": [
        {
          "output_type": "execute_result",
          "data": {
            "text/plain": [
              "BENIGN          22731\n",
              "DoS             19035\n",
              "PortScan         7946\n",
              "BruteForce       2767\n",
              "WebAttack        2180\n",
              "Bot              1966\n",
              "Infiltration       36\n",
              "Name: Label, dtype: int64"
            ]
          },
          "metadata": {},
          "execution_count": 7
        }
      ],
      "source": [
        "df.Label.value_counts()"
      ]
    },
    {
      "cell_type": "markdown",
      "metadata": {
        "id": "QZ9EAxnmVGQu"
      },
      "source": [
        "### Data sampling\n",
        "Due to the space limit of GitHub files, we sample a small-sized subset for model learning using random sampling"
      ]
    },
    {
      "cell_type": "code",
      "execution_count": 8,
      "metadata": {
        "id": "-d2J5dJRVGQu"
      },
      "outputs": [],
      "source": [
        "# Randomly sample instances from majority classes\n",
        "df_minor = df[(df['Label']=='WebAttack')|(df['Label']=='Bot')|(df['Label']=='Infiltration')]\n",
        "df_BENIGN = df[(df['Label']=='BENIGN')]\n",
        "df_BENIGN = df_BENIGN.sample(n=None, frac=0.01, replace=False, weights=None, random_state=None, axis=0)\n",
        "df_DoS = df[(df['Label']=='DoS')]\n",
        "df_DoS = df_DoS.sample(n=None, frac=0.05, replace=False, weights=None, random_state=None, axis=0)\n",
        "df_PortScan = df[(df['Label']=='PortScan')]\n",
        "df_PortScan = df_PortScan.sample(n=None, frac=0.05, replace=False, weights=None, random_state=None, axis=0)\n",
        "df_BruteForce = df[(df['Label']=='BruteForce')]\n",
        "df_BruteForce = df_BruteForce.sample(n=None, frac=0.2, replace=False, weights=None, random_state=None, axis=0)"
      ]
    },
    {
      "cell_type": "code",
      "execution_count": 9,
      "metadata": {
        "id": "YPXzmEikVGQu"
      },
      "outputs": [],
      "source": [
        "df_s = df_BENIGN.append(df_DoS).append(df_PortScan).append(df_BruteForce).append(df_minor)"
      ]
    },
    {
      "cell_type": "code",
      "execution_count": 10,
      "metadata": {
        "id": "5qpPHNyRVGQu"
      },
      "outputs": [],
      "source": [
        "df_s = df_s.sort_index()"
      ]
    },
    {
      "cell_type": "code",
      "execution_count": null,
      "metadata": {
        "collapsed": true,
        "id": "jOWKNKwAVGQu"
      },
      "outputs": [],
      "source": [
        "# Save the sampled dataset\n",
        "df_s.to_csv('./data/CICIDS2017_sample.csv',index=0)"
      ]
    },
    {
      "cell_type": "markdown",
      "metadata": {
        "id": "xbm6FuvSVGQu"
      },
      "source": [
        "### Preprocessing (normalization and padding values)"
      ]
    },
    {
      "cell_type": "code",
      "execution_count": 11,
      "metadata": {
        "collapsed": true,
        "id": "t14drhrgVGQu"
      },
      "outputs": [],
      "source": [
        "df = pd.read_csv('./data/CICIDS2017_sample.csv')"
      ]
    },
    {
      "cell_type": "code",
      "execution_count": 12,
      "metadata": {
        "id": "IRaQqY6EVGQu"
      },
      "outputs": [],
      "source": [
        "# Min-max normalization\n",
        "numeric_features = df.dtypes[df.dtypes != 'object'].index\n",
        "df[numeric_features] = df[numeric_features].apply(\n",
        "    lambda x: (x - x.min()) / (x.max()-x.min()))\n",
        "# Fill empty values by 0\n",
        "df = df.fillna(0)"
      ]
    },
    {
      "cell_type": "markdown",
      "metadata": {
        "id": "CX30G-4EVGQv"
      },
      "source": [
        "### split train set and test set"
      ]
    },
    {
      "cell_type": "code",
      "execution_count": 13,
      "metadata": {
        "collapsed": true,
        "id": "UaBVpGYFVGQv"
      },
      "outputs": [],
      "source": [
        "labelencoder = LabelEncoder()\n",
        "df.iloc[:, -1] = labelencoder.fit_transform(df.iloc[:, -1])\n",
        "X = df.drop(['Label'],axis=1).values \n",
        "y = df.iloc[:, -1].values.reshape(-1,1)\n",
        "y=np.ravel(y)\n",
        "X_train, X_test, y_train, y_test = train_test_split(X,y, train_size = 0.8, test_size = 0.2, random_state = 0,stratify = y)"
      ]
    },
    {
      "cell_type": "code",
      "execution_count": 14,
      "metadata": {
        "id": "l0WVgMH8VGQv",
        "outputId": "085a5286-6155-4635-e88f-64e7e295ad92",
        "colab": {
          "base_uri": "https://localhost:8080/"
        }
      },
      "outputs": [
        {
          "output_type": "execute_result",
          "data": {
            "text/plain": [
              "(45328, 77)"
            ]
          },
          "metadata": {},
          "execution_count": 14
        }
      ],
      "source": [
        "X_train.shape"
      ]
    },
    {
      "cell_type": "code",
      "execution_count": 15,
      "metadata": {
        "id": "o2hTPaAnVGQv",
        "outputId": "3c7bbe5c-a1e1-4cfa-ebf3-f3d309f85bca",
        "colab": {
          "base_uri": "https://localhost:8080/"
        }
      },
      "outputs": [
        {
          "output_type": "execute_result",
          "data": {
            "text/plain": [
              "0    18184\n",
              "3    15228\n",
              "5     6357\n",
              "2     2213\n",
              "6     1744\n",
              "1     1573\n",
              "4       29\n",
              "dtype: int64"
            ]
          },
          "metadata": {},
          "execution_count": 15
        }
      ],
      "source": [
        "pd.Series(y_train).value_counts()"
      ]
    },
    {
      "cell_type": "markdown",
      "metadata": {
        "id": "VjJwlxXtVGQv"
      },
      "source": [
        "### Oversampling by SMOTE"
      ]
    },
    {
      "cell_type": "code",
      "execution_count": 16,
      "metadata": {
        "id": "CFsHUce1VGQv"
      },
      "outputs": [],
      "source": [
        "from imblearn.over_sampling import SMOTE\n",
        "smote=SMOTE(n_jobs=-1,sampling_strategy={4:1500}) # Create 1500 samples for the minority class \"4\""
      ]
    },
    {
      "cell_type": "code",
      "execution_count": 17,
      "metadata": {
        "collapsed": true,
        "id": "cCzCDZNJVGQv"
      },
      "outputs": [],
      "source": [
        "X_train, y_train = smote.fit_resample(X_train, y_train)"
      ]
    },
    {
      "cell_type": "code",
      "execution_count": 18,
      "metadata": {
        "scrolled": true,
        "id": "hmrpj_FuVGQv",
        "outputId": "701165ed-2e39-4553-e927-4b06226ebec4",
        "colab": {
          "base_uri": "https://localhost:8080/"
        }
      },
      "outputs": [
        {
          "output_type": "execute_result",
          "data": {
            "text/plain": [
              "0    18184\n",
              "3    15228\n",
              "5     6357\n",
              "2     2213\n",
              "6     1744\n",
              "1     1573\n",
              "4     1500\n",
              "dtype: int64"
            ]
          },
          "metadata": {},
          "execution_count": 18
        }
      ],
      "source": [
        "pd.Series(y_train).value_counts()"
      ]
    },
    {
      "cell_type": "markdown",
      "metadata": {
        "collapsed": true,
        "id": "LMZjUibHVGQv"
      },
      "source": [
        "## Machine learning model training"
      ]
    },
    {
      "cell_type": "markdown",
      "metadata": {
        "id": "XPtpT-5eVGQv"
      },
      "source": [
        "### Training four base learners: decision tree, random forest, extra trees, XGBoost"
      ]
    },
    {
      "cell_type": "code",
      "execution_count": 19,
      "metadata": {
        "id": "QO7Fr8WyVGQv",
        "outputId": "e9efe08b-10b3-4deb-972a-4ff7d877b806",
        "colab": {
          "base_uri": "https://localhost:8080/",
          "height": 786
        }
      },
      "outputs": [
        {
          "output_type": "stream",
          "name": "stdout",
          "text": [
            "Accuracy of DT: 0.9956763434218654\n",
            "Precision of DT: 0.9956631875109845\n",
            "Recall of DT: 0.9956763434218654\n",
            "F1-score of DT: 0.9956635393580726\n",
            "              precision    recall  f1-score   support\n",
            "\n",
            "           0       1.00      0.99      0.99      4547\n",
            "           1       0.98      0.98      0.98       393\n",
            "           2       0.99      1.00      1.00       554\n",
            "           3       1.00      1.00      1.00      3807\n",
            "           4       0.83      0.71      0.77         7\n",
            "           5       1.00      1.00      1.00      1589\n",
            "           6       1.00      0.99      0.99       436\n",
            "\n",
            "    accuracy                           1.00     11333\n",
            "   macro avg       0.97      0.95      0.96     11333\n",
            "weighted avg       1.00      1.00      1.00     11333\n",
            "\n"
          ]
        },
        {
          "output_type": "display_data",
          "data": {
            "text/plain": [
              "<Figure size 500x500 with 2 Axes>"
            ],
            "image/png": "[encoded data removed]"
          },
          "metadata": {}
        }
      ],
      "source": [
        "# Decision tree training and prediction\n",
        "dt = DecisionTreeClassifier(random_state = 0)\n",
        "dt.fit(X_train,y_train) \n",
        "dt_score=dt.score(X_test,y_test)\n",
        "y_predict=dt.predict(X_test)\n",
        "y_true=y_test\n",
        "print('Accuracy of DT: '+ str(dt_score))\n",
        "precision,recall,fscore,none= precision_recall_fscore_support(y_true, y_predict, average='weighted') \n",
        "print('Precision of DT: '+(str(precision)))\n",
        "print('Recall of DT: '+(str(recall)))\n",
        "print('F1-score of DT: '+(str(fscore)))\n",
        "print(classification_report(y_true,y_predict))\n",
        "cm=confusion_matrix(y_true,y_predict)\n",
        "f,ax=plt.subplots(figsize=(5,5))\n",
        "sns.heatmap(cm,annot=True,linewidth=0.5,linecolor=\"red\",fmt=\".0f\",ax=ax)\n",
        "plt.xlabel(\"y_pred\")\n",
        "plt.ylabel(\"y_true\")\n",
        "plt.show()"
      ]
    },
    {
      "cell_type": "code",
      "execution_count": 20,
      "metadata": {
        "collapsed": true,
        "id": "fTJhxH-tVGQv"
      },
      "outputs": [],
      "source": [
        "dt_train=dt.predict(X_train)\n",
        "dt_test=dt.predict(X_test)"
      ]
    },
    {
      "cell_type": "code",
      "execution_count": 21,
      "metadata": {
        "id": "gwzxKMqzVGQv",
        "outputId": "d5db6ba6-7f9b-4c77-dab8-d416c2fa34fa",
        "colab": {
          "base_uri": "https://localhost:8080/",
          "height": 786
        }
      },
      "outputs": [
        {
          "output_type": "stream",
          "name": "stdout",
          "text": [
            "Accuracy of RF: 0.9959410570899144\n",
            "Precision of RF: 0.9959403334272374\n",
            "Recall of RF: 0.9959410570899144\n",
            "F1-score of RF: 0.9959160105868221\n",
            "              precision    recall  f1-score   support\n",
            "\n",
            "           0       0.99      1.00      1.00      4547\n",
            "           1       0.99      0.98      0.98       393\n",
            "           2       1.00      1.00      1.00       554\n",
            "           3       1.00      1.00      1.00      3807\n",
            "           4       1.00      0.71      0.83         7\n",
            "           5       1.00      1.00      1.00      1589\n",
            "           6       1.00      0.97      0.98       436\n",
            "\n",
            "    accuracy                           1.00     11333\n",
            "   macro avg       1.00      0.95      0.97     11333\n",
            "weighted avg       1.00      1.00      1.00     11333\n",
            "\n"
          ]
        },
        {
          "output_type": "display_data",
          "data": {
            "text/plain": [
              "<Figure size 500x500 with 2 Axes>"
            ],
            "image/png": "[encoded data removed]"
          },
          "metadata": {}
        }
      ],
      "source": [
        "# Random Forest training and prediction\n",
        "rf = RandomForestClassifier(random_state = 0)\n",
        "rf.fit(X_train,y_train) \n",
        "rf_score=rf.score(X_test,y_test)\n",
        "y_predict=rf.predict(X_test)\n",
        "y_true=y_test\n",
        "print('Accuracy of RF: '+ str(rf_score))\n",
        "precision,recall,fscore,none= precision_recall_fscore_support(y_true, y_predict, average='weighted') \n",
        "print('Precision of RF: '+(str(precision)))\n",
        "print('Recall of RF: '+(str(recall)))\n",
        "print('F1-score of RF: '+(str(fscore)))\n",
        "print(classification_report(y_true,y_predict))\n",
        "cm=confusion_matrix(y_true,y_predict)\n",
        "f,ax=plt.subplots(figsize=(5,5))\n",
        "sns.heatmap(cm,annot=True,linewidth=0.5,linecolor=\"red\",fmt=\".0f\",ax=ax)\n",
        "plt.xlabel(\"y_pred\")\n",
        "plt.ylabel(\"y_true\")\n",
        "plt.show()"
      ]
    },
    {
      "cell_type": "code",
      "execution_count": 22,
      "metadata": {
        "collapsed": true,
        "id": "VPxPivzdVGQv"
      },
      "outputs": [],
      "source": [
        "rf_train=rf.predict(X_train)\n",
        "rf_test=rf.predict(X_test)"
      ]
    },
    {
      "cell_type": "code",
      "execution_count": 23,
      "metadata": {
        "id": "CjseLILMVGQv",
        "outputId": "f673360e-e2f6-48a2-8c0a-86d9ac6a4374",
        "colab": {
          "base_uri": "https://localhost:8080/",
          "height": 786
        }
      },
      "outputs": [
        {
          "output_type": "stream",
          "name": "stdout",
          "text": [
            "Accuracy of ET: 0.992676255183976\n",
            "Precision of ET: 0.99269179480266\n",
            "Recall of ET: 0.992676255183976\n",
            "F1-score of ET: 0.9926600348908537\n",
            "              precision    recall  f1-score   support\n",
            "\n",
            "           0       0.99      0.99      0.99      4547\n",
            "           1       0.96      0.98      0.97       393\n",
            "           2       0.99      1.00      0.99       554\n",
            "           3       0.99      1.00      1.00      3807\n",
            "           4       1.00      0.71      0.83         7\n",
            "           5       1.00      1.00      1.00      1589\n",
            "           6       0.99      0.97      0.98       436\n",
            "\n",
            "    accuracy                           0.99     11333\n",
            "   macro avg       0.99      0.95      0.97     11333\n",
            "weighted avg       0.99      0.99      0.99     11333\n",
            "\n"
          ]
        },
        {
          "output_type": "display_data",
          "data": {
            "text/plain": [
              "<Figure size 500x500 with 2 Axes>"
            ],
            "image/png": "[encoded data removed]"
          },
          "metadata": {}
        }
      ],
      "source": [
        "# Extra trees training and prediction\n",
        "et = ExtraTreesClassifier(random_state = 0)\n",
        "et.fit(X_train,y_train) \n",
        "et_score=et.score(X_test,y_test)\n",
        "y_predict=et.predict(X_test)\n",
        "y_true=y_test\n",
        "print('Accuracy of ET: '+ str(et_score))\n",
        "precision,recall,fscore,none= precision_recall_fscore_support(y_true, y_predict, average='weighted') \n",
        "print('Precision of ET: '+(str(precision)))\n",
        "print('Recall of ET: '+(str(recall)))\n",
        "print('F1-score of ET: '+(str(fscore)))\n",
        "print(classification_report(y_true,y_predict))\n",
        "cm=confusion_matrix(y_true,y_predict)\n",
        "f,ax=plt.subplots(figsize=(5,5))\n",
        "sns.heatmap(cm,annot=True,linewidth=0.5,linecolor=\"red\",fmt=\".0f\",ax=ax)\n",
        "plt.xlabel(\"y_pred\")\n",
        "plt.ylabel(\"y_true\")\n",
        "plt.show()"
      ]
    },
    {
      "cell_type": "code",
      "execution_count": 24,
      "metadata": {
        "collapsed": true,
        "id": "dIyIyOwnVGQw"
      },
      "outputs": [],
      "source": [
        "et_train=et.predict(X_train)\n",
        "et_test=et.predict(X_test)"
      ]
    },
    {
      "cell_type": "code",
      "execution_count": 25,
      "metadata": {
        "id": "6ex_f69JVGQw",
        "outputId": "dee24bf2-783b-4192-c726-c74933a27350",
        "colab": {
          "base_uri": "https://localhost:8080/",
          "height": 786
        }
      },
      "outputs": [
        {
          "output_type": "stream",
          "name": "stdout",
          "text": [
            "Accuracy of XGBoost: 0.9947939645283684\n",
            "Precision of XGBoost: 0.994783334508082\n",
            "Recall of XGBoost: 0.9947939645283684\n",
            "F1-score of XGBoost: 0.9947770765700757\n",
            "              precision    recall  f1-score   support\n",
            "\n",
            "           0       0.99      0.99      0.99      4547\n",
            "           1       0.99      0.97      0.98       393\n",
            "           2       1.00      1.00      1.00       554\n",
            "           3       0.99      1.00      1.00      3807\n",
            "           4       0.83      0.71      0.77         7\n",
            "           5       1.00      1.00      1.00      1589\n",
            "           6       1.00      0.98      0.99       436\n",
            "\n",
            "    accuracy                           0.99     11333\n",
            "   macro avg       0.97      0.95      0.96     11333\n",
            "weighted avg       0.99      0.99      0.99     11333\n",
            "\n"
          ]
        },
        {
          "output_type": "display_data",
          "data": {
            "text/plain": [
              "<Figure size 500x500 with 2 Axes>"
            ],
            "image/png": "[encoded data removed]"
          },
          "metadata": {}
        }
      ],
      "source": [
        "# XGboost training and prediction\n",
        "xg = xgb.XGBClassifier(n_estimators = 10)\n",
        "xg.fit(X_train,y_train)\n",
        "xg_score=xg.score(X_test,y_test)\n",
        "y_predict=xg.predict(X_test)\n",
        "y_true=y_test\n",
        "print('Accuracy of XGBoost: '+ str(xg_score))\n",
        "precision,recall,fscore,none= precision_recall_fscore_support(y_true, y_predict, average='weighted') \n",
        "print('Precision of XGBoost: '+(str(precision)))\n",
        "print('Recall of XGBoost: '+(str(recall)))\n",
        "print('F1-score of XGBoost: '+(str(fscore)))\n",
        "print(classification_report(y_true,y_predict))\n",
        "cm=confusion_matrix(y_true,y_predict)\n",
        "f,ax=plt.subplots(figsize=(5,5))\n",
        "sns.heatmap(cm,annot=True,linewidth=0.5,linecolor=\"red\",fmt=\".0f\",ax=ax)\n",
        "plt.xlabel(\"y_pred\")\n",
        "plt.ylabel(\"y_true\")\n",
        "plt.show()"
      ]
    },
    {
      "cell_type": "code",
      "execution_count": 26,
      "metadata": {
        "collapsed": true,
        "id": "n8NykKerVGQw"
      },
      "outputs": [],
      "source": [
        "xg_train=xg.predict(X_train)\n",
        "xg_test=xg.predict(X_test)"
      ]
    },
    {
      "cell_type": "markdown",
      "metadata": {
        "collapsed": true,
        "id": "RtbZix5NVGQw"
      },
      "source": [
        "### Stacking model construction (ensemble for 4 base learners)"
      ]
    },
    {
      "cell_type": "code",
      "execution_count": 27,
      "metadata": {
        "id": "jbgItmW5VGQw",
        "outputId": "ccdb9f28-e76b-4799-da6f-7a9d18b11cd8",
        "colab": {
          "base_uri": "https://localhost:8080/",
          "height": 206
        }
      },
      "outputs": [
        {
          "output_type": "execute_result",
          "data": {
            "text/plain": [
              "   DecisionTree  RandomForest  ExtraTrees  XgBoost\n",
              "0             5             5           5        5\n",
              "1             3             3           3        3\n",
              "2             5             5           5        5\n",
              "3             3             3           3        3\n",
              "4             2             2           2        2"
            ],
            "text/html": [
              "\n",
              "  <div id=\"df-ebce5c0c-86d0-4a9b-bed3-e72fcc50fde2\">\n",
              "    <div class=\"colab-df-container\">\n",
              "      <div>\n",
              "<style scoped>\n",
              "    .dataframe tbody tr th:only-of-type {\n",
              "        vertical-align: middle;\n",
              "    }\n",
              "\n",
              "    .dataframe tbody tr th {\n",
              "        vertical-align: top;\n",
              "    }\n",
              "\n",
              "    .dataframe thead th {\n",
              "        text-align: right;\n",
              "    }\n",
              "</style>\n",
              "<table border=\"1\" class=\"dataframe\">\n",
              "  <thead>\n",
              "    <tr style=\"text-align: right;\">\n",
              "      <th></th>\n",
              "      <th>DecisionTree</th>\n",
              "      <th>RandomForest</th>\n",
              "      <th>ExtraTrees</th>\n",
              "      <th>XgBoost</th>\n",
              "    </tr>\n",
              "  </thead>\n",
              "  <tbody>\n",
              "    <tr>\n",
              "      <th>0</th>\n",
              "      <td>5</td>\n",
              "      <td>5</td>\n",
              "      <td>5</td>\n",
              "      <td>5</td>\n",
              "    </tr>\n",
              "    <tr>\n",
              "      <th>1</th>\n",
              "      <td>3</td>\n",
              "      <td>3</td>\n",
              "      <td>3</td>\n",
              "      <td>3</td>\n",
              "    </tr>\n",
              "    <tr>\n",
              "      <th>2</th>\n",
              "      <td>5</td>\n",
              "      <td>5</td>\n",
              "      <td>5</td>\n",
              "      <td>5</td>\n",
              "    </tr>\n",
              "    <tr>\n",
              "      <th>3</th>\n",
              "      <td>3</td>\n",
              "      <td>3</td>\n",
              "      <td>3</td>\n",
              "      <td>3</td>\n",
              "    </tr>\n",
              "    <tr>\n",
              "      <th>4</th>\n",
              "      <td>2</td>\n",
              "      <td>2</td>\n",
              "      <td>2</td>\n",
              "      <td>2</td>\n",
              "    </tr>\n",
              "  </tbody>\n",
              "</table>\n",
              "</div>\n",
              "      <button class=\"colab-df-convert\" onclick=\"convertToInteractive('df-ebce5c0c-86d0-4a9b-bed3-e72fcc50fde2')\"\n",
              "              title=\"Convert this dataframe to an interactive table.\"\n",
              "              style=\"display:none;\">\n",
              "        \n",
              "  <svg xmlns=\"http://www.w3.org/2000/svg\" height=\"24px\"viewBox=\"0 0 24 24\"\n",
              "       width=\"24px\">\n",
              "    <path d=\"M0 0h24v24H0V0z\" fill=\"none\"/>\n",
              "    <path d=\"M18.56 5.44l.94 2.06.94-2.06 2.06-.94-2.06-.94-.94-2.06-.94 2.06-2.06.94zm-11 1L8.5 8.5l.94-2.06 2.06-.94-2.06-.94L8.5 2.5l-.94 2.06-2.06.94zm10 10l.94 2.06.94-2.06 2.06-.94-2.06-.94-.94-2.06-.94 2.06-2.06.94z\"/><path d=\"M17.41 7.96l-1.37-1.37c-.4-.4-.92-.59-1.43-.59-.52 0-1.04.2-1.43.59L10.3 9.45l-7.72 7.72c-.78.78-.78 2.05 0 2.83L4 21.41c.39.39.9.59 1.41.59.51 0 1.02-.2 1.41-.59l7.78-7.78 2.81-2.81c.8-.78.8-2.07 0-2.86zM5.41 20L4 18.59l7.72-7.72 1.47 1.35L5.41 20z\"/>\n",
              "  </svg>\n",
              "      </button>\n",
              "      \n",
              "  <style>\n",
              "    .colab-df-container {\n",
              "      display:flex;\n",
              "      flex-wrap:wrap;\n",
              "      gap: 12px;\n",
              "    }\n",
              "\n",
              "    .colab-df-convert {\n",
              "      background-color: #E8F0FE;\n",
              "      border: none;\n",
              "      border-radius: 50%;\n",
              "      cursor: pointer;\n",
              "      display: none;\n",
              "      fill: #1967D2;\n",
              "      height: 32px;\n",
              "      padding: 0 0 0 0;\n",
              "      width: 32px;\n",
              "    }\n",
              "\n",
              "    .colab-df-convert:hover {\n",
              "      background-color: #E2EBFA;\n",
              "      box-shadow: 0px 1px 2px rgba(60, 64, 67, 0.3), 0px 1px 3px 1px rgba(60, 64, 67, 0.15);\n",
              "      fill: #174EA6;\n",
              "    }\n",
              "\n",
              "    [theme=dark] .colab-df-convert {\n",
              "      background-color: #3B4455;\n",
              "      fill: #D2E3FC;\n",
              "    }\n",
              "\n",
              "    [theme=dark] .colab-df-convert:hover {\n",
              "      background-color: #434B5C;\n",
              "      box-shadow: 0px 1px 3px 1px rgba(0, 0, 0, 0.15);\n",
              "      filter: drop-shadow(0px 1px 2px rgba(0, 0, 0, 0.3));\n",
              "      fill: #FFFFFF;\n",
              "    }\n",
              "  </style>\n",
              "\n",
              "      <script>\n",
              "        const buttonEl =\n",
              "          document.querySelector('#df-ebce5c0c-86d0-4a9b-bed3-e72fcc50fde2 button.colab-df-convert');\n",
              "        buttonEl.style.display =\n",
              "          google.colab.kernel.accessAllowed ? 'block' : 'none';\n",
              "\n",
              "        async function convertToInteractive(key) {\n",
              "          const element = document.querySelector('#df-ebce5c0c-86d0-4a9b-bed3-e72fcc50fde2');\n",
              "          const dataTable =\n",
              "            await google.colab.kernel.invokeFunction('convertToInteractive',\n",
              "                                                     [key], {});\n",
              "          if (!dataTable) return;\n",
              "\n",
              "          const docLinkHtml = 'Like what you see? Visit the ' +\n",
              "            '<a target=\"_blank\" href=https://colab.research.google.com/notebooks/data_table.ipynb>data table notebook</a>'\n",
              "            + ' to learn more about interactive tables.';\n",
              "          element.innerHTML = '';\n",
              "          dataTable['output_type'] = 'display_data';\n",
              "          await google.colab.output.renderOutput(dataTable, element);\n",
              "          const docLink = document.createElement('div');\n",
              "          docLink.innerHTML = docLinkHtml;\n",
              "          element.appendChild(docLink);\n",
              "        }\n",
              "      </script>\n",
              "    </div>\n",
              "  </div>\n",
              "  "
            ]
          },
          "metadata": {},
          "execution_count": 27
        }
      ],
      "source": [
        "# Use the outputs of 4 base models to construct a new ensemble model\n",
        "base_predictions_train = pd.DataFrame( {\n",
        "    'DecisionTree': dt_train.ravel(),\n",
        "        'RandomForest': rf_train.ravel(),\n",
        "     'ExtraTrees': et_train.ravel(),\n",
        "     'XgBoost': xg_train.ravel(),\n",
        "    })\n",
        "base_predictions_train.head(5)"
      ]
    },
    {
      "cell_type": "code",
      "execution_count": 28,
      "metadata": {
        "collapsed": true,
        "id": "UFCR3CzKVGQw"
      },
      "outputs": [],
      "source": [
        "dt_train=dt_train.reshape(-1, 1)\n",
        "et_train=et_train.reshape(-1, 1)\n",
        "rf_train=rf_train.reshape(-1, 1)\n",
        "xg_train=xg_train.reshape(-1, 1)\n",
        "dt_test=dt_test.reshape(-1, 1)\n",
        "et_test=et_test.reshape(-1, 1)\n",
        "rf_test=rf_test.reshape(-1, 1)\n",
        "xg_test=xg_test.reshape(-1, 1)"
      ]
    },
    {
      "cell_type": "code",
      "execution_count": 29,
      "metadata": {
        "collapsed": true,
        "id": "kiPCpvk2VGQw"
      },
      "outputs": [],
      "source": [
        "x_train = np.concatenate(( dt_train, et_train, rf_train, xg_train), axis=1)\n",
        "x_test = np.concatenate(( dt_test, et_test, rf_test, xg_test), axis=1)"
      ]
    },
    {
      "cell_type": "code",
      "execution_count": 30,
      "metadata": {
        "collapsed": true,
        "id": "77ntAa7oVGQw"
      },
      "outputs": [],
      "source": [
        "stk = xgb.XGBClassifier().fit(x_train, y_train)"
      ]
    },
    {
      "cell_type": "code",
      "execution_count": 31,
      "metadata": {
        "id": "_HZuD24uVGQ3",
        "outputId": "95c18137-4243-440d-ffd9-23100e06f33a",
        "colab": {
          "base_uri": "https://localhost:8080/",
          "height": 786
        }
      },
      "outputs": [
        {
          "output_type": "stream",
          "name": "stdout",
          "text": [
            "Accuracy of Stacking: 0.9956763434218654\n",
            "Precision of Stacking: 0.9956786965937533\n",
            "Recall of Stacking: 0.9956763434218654\n",
            "F1-score of Stacking: 0.9956592364077332\n",
            "              precision    recall  f1-score   support\n",
            "\n",
            "           0       1.00      0.99      0.99      4547\n",
            "           1       0.98      0.98      0.98       393\n",
            "           2       0.99      1.00      1.00       554\n",
            "           3       1.00      1.00      1.00      3807\n",
            "           4       1.00      0.71      0.83         7\n",
            "           5       1.00      1.00      1.00      1589\n",
            "           6       1.00      0.99      0.99       436\n",
            "\n",
            "    accuracy                           1.00     11333\n",
            "   macro avg       0.99      0.95      0.97     11333\n",
            "weighted avg       1.00      1.00      1.00     11333\n",
            "\n"
          ]
        },
        {
          "output_type": "display_data",
          "data": {
            "text/plain": [
              "<Figure size 500x500 with 2 Axes>"
            ],
            "image/png": "[encoded data removed]"
          },
          "metadata": {}
        }
      ],
      "source": [
        "y_predict=stk.predict(x_test)\n",
        "y_true=y_test\n",
        "stk_score=accuracy_score(y_true,y_predict)\n",
        "print('Accuracy of Stacking: '+ str(stk_score))\n",
        "precision,recall,fscore,none= precision_recall_fscore_support(y_true, y_predict, average='weighted') \n",
        "print('Precision of Stacking: '+(str(precision)))\n",
        "print('Recall of Stacking: '+(str(recall)))\n",
        "print('F1-score of Stacking: '+(str(fscore)))\n",
        "print(classification_report(y_true,y_predict))\n",
        "cm=confusion_matrix(y_true,y_predict)\n",
        "f,ax=plt.subplots(figsize=(5,5))\n",
        "sns.heatmap(cm,annot=True,linewidth=0.5,linecolor=\"red\",fmt=\".0f\",ax=ax)\n",
        "plt.xlabel(\"y_pred\")\n",
        "plt.ylabel(\"y_true\")\n",
        "plt.show()"
      ]
    },
    {
      "cell_type": "markdown",
      "metadata": {
        "id": "WNfAwNxVVGQ3"
      },
      "source": [
        "## Feature Selection"
      ]
    },
    {
      "cell_type": "markdown",
      "metadata": {
        "id": "9QQzGE9pVGQ3"
      },
      "source": [
        "### Feature importance"
      ]
    },
    {
      "cell_type": "code",
      "execution_count": null,
      "metadata": {
        "id": "jXhNndJMVGQ3"
      },
      "outputs": [],
      "source": [
        "# Save the feature importance lists generated by four tree-based algorithms\n",
        "dt_feature = dt.feature_importances_\n",
        "rf_feature = rf.feature_importances_\n",
        "et_feature = et.feature_importances_\n",
        "xgb_feature = xg.feature_importances_"
      ]
    },
    {
      "cell_type": "code",
      "execution_count": null,
      "metadata": {
        "id": "N0eoCYVlVGQ3"
      },
      "outputs": [],
      "source": [
        "# calculate the average importance value of each feature\n",
        "avg_feature = (dt_feature + rf_feature + et_feature + xgb_feature)/4"
      ]
    },
    {
      "cell_type": "code",
      "execution_count": null,
      "metadata": {
        "id": "HsbkgqitVGQ3",
        "outputId": "975b28ba-ae7b-452e-ebae-5d8215f4d90d"
      },
      "outputs": [
        {
          "name": "stdout",
          "output_type": "stream",
          "text": [
            "Features sorted by their score:\n",
            "[(0.1235, 'Bwd Packet Length Std'), (0.0853, 'Bwd Packet Length Min'), (0.0574, 'Average Packet Size'), (0.05, 'Init_Win_bytes_backward'), (0.0492, 'Bwd Packet Length Mean'), (0.0401, 'Init_Win_bytes_forward'), (0.0397, 'PSH Flag Count'), (0.038, 'Bwd Packets/s'), (0.034, 'Bwd Header Length'), (0.028, 'Avg Bwd Segment Size'), (0.0264, 'Packet Length Mean'), (0.0235, 'Packet Length Variance'), (0.0228, 'Fwd Header Length'), (0.0209, 'Bwd Packet Length Max'), (0.0193, 'min_seg_size_forward'), (0.0182, 'ACK Flag Count'), (0.017, 'act_data_pkt_fwd'), (0.0157, 'Fwd Header Length.1'), (0.0128, 'Packet Length Std'), (0.0122, 'Total Length of Fwd Packets'), (0.0117, 'Fwd PSH Flags'), (0.0108, 'Fwd Packet Length Max'), (0.0108, 'Fwd IAT Mean'), (0.0106, 'Total Fwd Packets'), (0.0106, 'Flow IAT Max'), (0.01, 'Subflow Fwd Bytes'), (0.0095, 'Fwd IAT Max'), (0.0094, 'Subflow Bwd Bytes'), (0.0094, 'Max Packet Length'), (0.0092, 'Subflow Bwd Packets'), (0.009, 'Min Packet Length'), (0.0086, 'Total Backward Packets'), (0.0086, 'Bwd IAT Total'), (0.0085, 'Idle Max'), (0.0083, 'Fwd IAT Min'), (0.008, 'Fwd Packet Length Mean'), (0.0075, 'URG Flag Count'), (0.0075, 'Subflow Fwd Packets'), (0.0071, 'Avg Fwd Segment Size'), (0.0063, 'Fwd IAT Std'), (0.0063, 'Down/Up Ratio'), (0.0061, 'Fwd IAT Total'), (0.0059, 'Flow Duration'), (0.0058, 'Fwd Packet Length Min'), (0.0057, 'Flow IAT Std'), (0.0055, 'Flow IAT Min'), (0.005, 'Total Length of Bwd Packets'), (0.0049, 'Bwd IAT Mean'), (0.0047, 'Bwd IAT Min'), (0.0045, 'Fwd Packets/s'), (0.0044, 'Fwd Packet Length Std'), (0.0043, 'Bwd IAT Max'), (0.0042, 'FIN Flag Count'), (0.004, 'Flow IAT Mean'), (0.0034, 'Idle Min'), (0.0031, 'SYN Flag Count'), (0.0027, 'Bwd IAT Std'), (0.0023, 'Idle Mean'), (0.0006, 'Active Mean'), (0.0004, 'Active Min'), (0.0003, 'Active Max'), (0.0002, 'Idle Std'), (0.0001, 'Active Std'), (0.0, 'RST Flag Count'), (0.0, 'Fwd URG Flags'), (0.0, 'Fwd Avg Packets/Bulk'), (0.0, 'Fwd Avg Bytes/Bulk'), (0.0, 'Fwd Avg Bulk Rate'), (0.0, 'Flow Packets/s'), (0.0, 'Flow Bytes/s'), (0.0, 'ECE Flag Count'), (0.0, 'CWE Flag Count'), (0.0, 'Bwd URG Flags'), (0.0, 'Bwd PSH Flags'), (0.0, 'Bwd Avg Packets/Bulk'), (0.0, 'Bwd Avg Bytes/Bulk'), (0.0, 'Bwd Avg Bulk Rate')]\n"
          ]
        }
      ],
      "source": [
        "feature=(df.drop(['Label'],axis=1)).columns.values\n",
        "print (\"Features sorted by their score:\")\n",
        "print (sorted(zip(map(lambda x: round(x, 4), avg_feature), feature), reverse=True))"
      ]
    },
    {
      "cell_type": "code",
      "execution_count": null,
      "metadata": {
        "collapsed": true,
        "id": "ArF5xwPQVGQ4"
      },
      "outputs": [],
      "source": [
        "f_list = sorted(zip(map(lambda x: round(x, 4), avg_feature), feature), reverse=True)"
      ]
    },
    {
      "cell_type": "code",
      "execution_count": null,
      "metadata": {
        "scrolled": true,
        "id": "3CfHqOfXVGQ4",
        "outputId": "a2b7a1d0-9612-4bec-a476-ec322a85739a"
      },
      "outputs": [
        {
          "data": {
            "text/plain": [
              "77"
            ]
          },
          "execution_count": 28,
          "metadata": {},
          "output_type": "execute_result"
        }
      ],
      "source": [
        "len(f_list)"
      ]
    },
    {
      "cell_type": "code",
      "execution_count": null,
      "metadata": {
        "id": "cegnKkaOVGQ4"
      },
      "outputs": [],
      "source": [
        "# Select the important features from top-importance to bottom-importance until the accumulated importance reaches 0.9 (out of 1)\n",
        "Sum = 0\n",
        "fs = []\n",
        "for i in range(0, len(f_list)):\n",
        "    Sum = Sum + f_list[i][0]\n",
        "    fs.append(f_list[i][1])\n",
        "    if Sum>=0.9:\n",
        "        break        "
      ]
    },
    {
      "cell_type": "code",
      "execution_count": null,
      "metadata": {
        "id": "vErV2ljQVGQ4"
      },
      "outputs": [],
      "source": [
        "X_fs = df[fs].values"
      ]
    },
    {
      "cell_type": "code",
      "execution_count": null,
      "metadata": {
        "collapsed": true,
        "id": "rOWsxkW1VGQ4"
      },
      "outputs": [],
      "source": [
        "X_train, X_test, y_train, y_test = train_test_split(X_fs,y, train_size = 0.8, test_size = 0.2, random_state = 0,stratify = y)"
      ]
    },
    {
      "cell_type": "code",
      "execution_count": null,
      "metadata": {
        "id": "CYcApDI-VGQ4",
        "outputId": "6f142d45-e1c8-4a67-af76-2ab98492e8d0"
      },
      "outputs": [
        {
          "data": {
            "text/plain": [
              "(45328, 38)"
            ]
          },
          "execution_count": 32,
          "metadata": {},
          "output_type": "execute_result"
        }
      ],
      "source": [
        "X_train.shape"
      ]
    },
    {
      "cell_type": "code",
      "execution_count": null,
      "metadata": {
        "id": "XQ9glLTCVGQ4",
        "outputId": "60b0097c-38df-46ee-9e53-2360b3bc4516"
      },
      "outputs": [
        {
          "data": {
            "text/plain": [
              "0    18184\n",
              "3    15228\n",
              "5     6357\n",
              "2     2213\n",
              "6     1744\n",
              "1     1573\n",
              "4       29\n",
              "dtype: int64"
            ]
          },
          "execution_count": 33,
          "metadata": {},
          "output_type": "execute_result"
        }
      ],
      "source": [
        "pd.Series(y_train).value_counts()"
      ]
    },
    {
      "cell_type": "markdown",
      "metadata": {
        "id": "y_9qsyJdVGQ4"
      },
      "source": [
        "### Oversampling by SMOTE"
      ]
    },
    {
      "cell_type": "code",
      "execution_count": null,
      "metadata": {
        "id": "GdFi8I9eVGQ4"
      },
      "outputs": [],
      "source": [
        "from imblearn.over_sampling import SMOTE\n",
        "smote=SMOTE(n_jobs=-1,sampling_strategy={4:1500})"
      ]
    },
    {
      "cell_type": "code",
      "execution_count": null,
      "metadata": {
        "collapsed": true,
        "id": "ayOaicreVGQ4"
      },
      "outputs": [],
      "source": [
        "X_train, y_train = smote.fit_resample(X_train, y_train)"
      ]
    },
    {
      "cell_type": "code",
      "execution_count": null,
      "metadata": {
        "scrolled": true,
        "id": "Xe2tAtd2VGQ4",
        "outputId": "cbc31c12-080c-47e2-ffb9-417c11837541"
      },
      "outputs": [
        {
          "data": {
            "text/plain": [
              "0    18184\n",
              "3    15228\n",
              "5     6357\n",
              "2     2213\n",
              "6     1744\n",
              "1     1573\n",
              "4     1500\n",
              "dtype: int64"
            ]
          },
          "execution_count": 36,
          "metadata": {},
          "output_type": "execute_result"
        }
      ],
      "source": [
        "pd.Series(y_train).value_counts()"
      ]
    },
    {
      "cell_type": "markdown",
      "metadata": {
        "collapsed": true,
        "id": "O7BBl5XeVGQ4"
      },
      "source": [
        "## Machine learning model training after feature selection"
      ]
    },
    {
      "cell_type": "code",
      "execution_count": null,
      "metadata": {
        "id": "iSJM4_oaVGQ4",
        "outputId": "73a7f537-dd2d-43a0-81cf-250b436ef9f2"
      },
      "outputs": [
        {
          "name": "stdout",
          "output_type": "stream",
          "text": [
            "Accuracy of DT: 0.9959410570899144\n",
            "Precision of DT: 0.9959421882780577\n",
            "Recall of DT: 0.9959410570899144\n",
            "F1-score of DT: 0.995922941273118\n",
            "              precision    recall  f1-score   support\n",
            "\n",
            "           0       1.00      0.99      1.00      4547\n",
            "           1       0.98      0.98      0.98       393\n",
            "           2       0.99      1.00      1.00       554\n",
            "           3       1.00      1.00      1.00      3807\n",
            "           4       1.00      0.71      0.83         7\n",
            "           5       1.00      1.00      1.00      1589\n",
            "           6       1.00      0.98      0.99       436\n",
            "\n",
            "    accuracy                           1.00     11333\n",
            "   macro avg       0.99      0.95      0.97     11333\n",
            "weighted avg       1.00      1.00      1.00     11333\n",
            "\n"
          ]
        },
        {
          "data": {
            "image/png": "[encoded data removed]",
            "text/plain": [
              "<Figure size 360x360 with 2 Axes>"
            ]
          },
          "metadata": {},
          "output_type": "display_data"
        }
      ],
      "source": [
        "dt = DecisionTreeClassifier(random_state = 0)\n",
        "dt.fit(X_train,y_train) \n",
        "dt_score=dt.score(X_test,y_test)\n",
        "y_predict=dt.predict(X_test)\n",
        "y_true=y_test\n",
        "print('Accuracy of DT: '+ str(dt_score))\n",
        "precision,recall,fscore,none= precision_recall_fscore_support(y_true, y_predict, average='weighted') \n",
        "print('Precision of DT: '+(str(precision)))\n",
        "print('Recall of DT: '+(str(recall)))\n",
        "print('F1-score of DT: '+(str(fscore)))\n",
        "print(classification_report(y_true,y_predict))\n",
        "cm=confusion_matrix(y_true,y_predict)\n",
        "f,ax=plt.subplots(figsize=(5,5))\n",
        "sns.heatmap(cm,annot=True,linewidth=0.5,linecolor=\"red\",fmt=\".0f\",ax=ax)\n",
        "plt.xlabel(\"y_pred\")\n",
        "plt.ylabel(\"y_true\")\n",
        "plt.show()"
      ]
    },
    {
      "cell_type": "code",
      "execution_count": null,
      "metadata": {
        "collapsed": true,
        "id": "GDRE41ByVGQ4"
      },
      "outputs": [],
      "source": [
        "dt_train=dt.predict(X_train)\n",
        "dt_test=dt.predict(X_test)"
      ]
    },
    {
      "cell_type": "code",
      "execution_count": null,
      "metadata": {
        "id": "7a3HsSWzVGQ4",
        "outputId": "e26f630b-f706-474b-aa87-84c139b10e0f"
      },
      "outputs": [
        {
          "name": "stdout",
          "output_type": "stream",
          "text": [
            "Accuracy of RF: 0.9963822465366629\n",
            "Precision of RF: 0.9963638997836398\n",
            "Recall of RF: 0.9963822465366629\n",
            "F1-score of RF: 0.9963668543569548\n",
            "              precision    recall  f1-score   support\n",
            "\n",
            "           0       1.00      1.00      1.00      4547\n",
            "           1       0.99      0.98      0.98       393\n",
            "           2       1.00      1.00      1.00       554\n",
            "           3       1.00      1.00      1.00      3807\n",
            "           4       0.83      0.71      0.77         7\n",
            "           5       1.00      1.00      1.00      1589\n",
            "           6       1.00      0.98      0.99       436\n",
            "\n",
            "    accuracy                           1.00     11333\n",
            "   macro avg       0.97      0.95      0.96     11333\n",
            "weighted avg       1.00      1.00      1.00     11333\n",
            "\n"
          ]
        },
        {
          "data": {
            "image/png": "[encoded data removed]",
            "text/plain": [
              "<Figure size 360x360 with 2 Axes>"
            ]
          },
          "metadata": {},
          "output_type": "display_data"
        }
      ],
      "source": [
        "rf = RandomForestClassifier(random_state = 0)\n",
        "rf.fit(X_train,y_train) # modelin veri üzerinde öğrenmesi fit fonksiyonuyla yapılıyor\n",
        "# learning of the model on the data is done with the fit function\n",
        "rf_score=rf.score(X_test,y_test)\n",
        "y_predict=rf.predict(X_test)\n",
        "y_true=y_test\n",
        "print('Accuracy of RF: '+ str(rf_score))\n",
        "precision,recall,fscore,none= precision_recall_fscore_support(y_true, y_predict, average='weighted') \n",
        "print('Precision of RF: '+(str(precision)))\n",
        "print('Recall of RF: '+(str(recall)))\n",
        "print('F1-score of RF: '+(str(fscore)))\n",
        "print(classification_report(y_true,y_predict))\n",
        "cm=confusion_matrix(y_true,y_predict)\n",
        "f,ax=plt.subplots(figsize=(5,5))\n",
        "sns.heatmap(cm,annot=True,linewidth=0.5,linecolor=\"red\",fmt=\".0f\",ax=ax)\n",
        "plt.xlabel(\"y_pred\")\n",
        "plt.ylabel(\"y_true\")\n",
        "plt.show()"
      ]
    },
    {
      "cell_type": "code",
      "execution_count": null,
      "metadata": {
        "collapsed": true,
        "id": "EqSluLmjVGQ5"
      },
      "outputs": [],
      "source": [
        "rf_train=rf.predict(X_train)\n",
        "rf_test=rf.predict(X_test)"
      ]
    },
    {
      "cell_type": "code",
      "execution_count": null,
      "metadata": {
        "id": "Kw43UtCdVGQ5",
        "outputId": "df77043e-fee2-45ee-e7ef-d159660dc786"
      },
      "outputs": [
        {
          "name": "stdout",
          "output_type": "stream",
          "text": [
            "Accuracy of ET: 0.995764581311215\n",
            "Precision of ET: 0.9957533838731291\n",
            "Recall of ET: 0.995764581311215\n",
            "F1-score of ET: 0.9957536562646003\n",
            "              precision    recall  f1-score   support\n",
            "\n",
            "           0       1.00      0.99      0.99      4547\n",
            "           1       0.97      0.98      0.98       393\n",
            "           2       1.00      1.00      1.00       554\n",
            "           3       1.00      1.00      1.00      3807\n",
            "           4       0.83      0.71      0.77         7\n",
            "           5       1.00      1.00      1.00      1589\n",
            "           6       1.00      0.99      0.99       436\n",
            "\n",
            "    accuracy                           1.00     11333\n",
            "   macro avg       0.97      0.95      0.96     11333\n",
            "weighted avg       1.00      1.00      1.00     11333\n",
            "\n"
          ]
        },
        {
          "data": {
            "image/png": "[encoded data removed]",
            "text/plain": [
              "<Figure size 360x360 with 2 Axes>"
            ]
          },
          "metadata": {},
          "output_type": "display_data"
        }
      ],
      "source": [
        "et = ExtraTreesClassifier(random_state = 0)\n",
        "et.fit(X_train,y_train) \n",
        "et_score=et.score(X_test,y_test)\n",
        "y_predict=et.predict(X_test)\n",
        "y_true=y_test\n",
        "print('Accuracy of ET: '+ str(et_score))\n",
        "precision,recall,fscore,none= precision_recall_fscore_support(y_true, y_predict, average='weighted') \n",
        "print('Precision of ET: '+(str(precision)))\n",
        "print('Recall of ET: '+(str(recall)))\n",
        "print('F1-score of ET: '+(str(fscore)))\n",
        "print(classification_report(y_true,y_predict))\n",
        "cm=confusion_matrix(y_true,y_predict)\n",
        "f,ax=plt.subplots(figsize=(5,5))\n",
        "sns.heatmap(cm,annot=True,linewidth=0.5,linecolor=\"red\",fmt=\".0f\",ax=ax)\n",
        "plt.xlabel(\"y_pred\")\n",
        "plt.ylabel(\"y_true\")\n",
        "plt.show()"
      ]
    },
    {
      "cell_type": "code",
      "execution_count": null,
      "metadata": {
        "collapsed": true,
        "id": "Sj7nBPJsVGQ5"
      },
      "outputs": [],
      "source": [
        "et_train=et.predict(X_train)\n",
        "et_test=et.predict(X_test)"
      ]
    },
    {
      "cell_type": "code",
      "execution_count": null,
      "metadata": {
        "id": "UvaBYq10VGQ5",
        "outputId": "468a20ab-85b1-4fd8-a5d2-8db214fa6589"
      },
      "outputs": [
        {
          "name": "stdout",
          "output_type": "stream",
          "text": [
            "Accuracy of XGBoost: 0.9945292508603194\n",
            "Precision of XGBoost: 0.9945034026564313\n",
            "Recall of XGBoost: 0.9945292508603194\n",
            "F1-score of XGBoost: 0.9944940662484604\n",
            "              precision    recall  f1-score   support\n",
            "\n",
            "           0       0.99      0.99      0.99      4547\n",
            "           1       1.00      0.98      0.99       393\n",
            "           2       1.00      1.00      1.00       554\n",
            "           3       0.99      1.00      1.00      3807\n",
            "           4       0.80      0.57      0.67         7\n",
            "           5       1.00      1.00      1.00      1589\n",
            "           6       1.00      0.98      0.99       436\n",
            "\n",
            "    accuracy                           0.99     11333\n",
            "   macro avg       0.97      0.93      0.95     11333\n",
            "weighted avg       0.99      0.99      0.99     11333\n",
            "\n"
          ]
        },
        {
          "data": {
            "image/png": "[encoded data removed]",
            "text/plain": [
              "<Figure size 360x360 with 2 Axes>"
            ]
          },
          "metadata": {},
          "output_type": "display_data"
        }
      ],
      "source": [
        "xg = xgb.XGBClassifier(n_estimators = 10)\n",
        "xg.fit(X_train,y_train)\n",
        "xg_score=xg.score(X_test,y_test)\n",
        "y_predict=xg.predict(X_test)\n",
        "y_true=y_test\n",
        "print('Accuracy of XGBoost: '+ str(xg_score))\n",
        "precision,recall,fscore,none= precision_recall_fscore_support(y_true, y_predict, average='weighted') \n",
        "print('Precision of XGBoost: '+(str(precision)))\n",
        "print('Recall of XGBoost: '+(str(recall)))\n",
        "print('F1-score of XGBoost: '+(str(fscore)))\n",
        "print(classification_report(y_true,y_predict))\n",
        "cm=confusion_matrix(y_true,y_predict)\n",
        "f,ax=plt.subplots(figsize=(5,5))\n",
        "sns.heatmap(cm,annot=True,linewidth=0.5,linecolor=\"red\",fmt=\".0f\",ax=ax)\n",
        "plt.xlabel(\"y_pred\")\n",
        "plt.ylabel(\"y_true\")\n",
        "plt.show()"
      ]
    },
    {
      "cell_type": "code",
      "execution_count": null,
      "metadata": {
        "collapsed": true,
        "id": "S-u_2VsmVGQ5"
      },
      "outputs": [],
      "source": [
        "xg_train=xg.predict(X_train)\n",
        "xg_test=xg.predict(X_test)"
      ]
    },
    {
      "cell_type": "markdown",
      "metadata": {
        "collapsed": true,
        "id": "dFOikZ4hVGQ5"
      },
      "source": [
        "### Stacking model construction"
      ]
    },
    {
      "cell_type": "code",
      "execution_count": null,
      "metadata": {
        "id": "XiB2OCWlVGQ5",
        "outputId": "024df1c4-d601-4f86-faf4-2ae0483b3fd6"
      },
      "outputs": [
        {
          "data": {
            "text/html": [
              "<div>\n",
              "<style scoped>\n",
              "    .dataframe tbody tr th:only-of-type {\n",
              "        vertical-align: middle;\n",
              "    }\n",
              "\n",
              "    .dataframe tbody tr th {\n",
              "        vertical-align: top;\n",
              "    }\n",
              "\n",
              "    .dataframe thead th {\n",
              "        text-align: right;\n",
              "    }\n",
              "</style>\n",
              "<table border=\"1\" class=\"dataframe\">\n",
              "  <thead>\n",
              "    <tr style=\"text-align: right;\">\n",
              "      <th></th>\n",
              "      <th>DecisionTree</th>\n",
              "      <th>ExtraTrees</th>\n",
              "      <th>RandomForest</th>\n",
              "      <th>XgBoost</th>\n",
              "    </tr>\n",
              "  </thead>\n",
              "  <tbody>\n",
              "    <tr>\n",
              "      <th>0</th>\n",
              "      <td>5</td>\n",
              "      <td>5</td>\n",
              "      <td>5</td>\n",
              "      <td>5</td>\n",
              "    </tr>\n",
              "    <tr>\n",
              "      <th>1</th>\n",
              "      <td>3</td>\n",
              "      <td>3</td>\n",
              "      <td>3</td>\n",
              "      <td>3</td>\n",
              "    </tr>\n",
              "    <tr>\n",
              "      <th>2</th>\n",
              "      <td>5</td>\n",
              "      <td>5</td>\n",
              "      <td>5</td>\n",
              "      <td>5</td>\n",
              "    </tr>\n",
              "    <tr>\n",
              "      <th>3</th>\n",
              "      <td>3</td>\n",
              "      <td>3</td>\n",
              "      <td>3</td>\n",
              "      <td>3</td>\n",
              "    </tr>\n",
              "    <tr>\n",
              "      <th>4</th>\n",
              "      <td>2</td>\n",
              "      <td>2</td>\n",
              "      <td>2</td>\n",
              "      <td>2</td>\n",
              "    </tr>\n",
              "  </tbody>\n",
              "</table>\n",
              "</div>"
            ],
            "text/plain": [
              "   DecisionTree  ExtraTrees  RandomForest  XgBoost\n",
              "0             5           5             5        5\n",
              "1             3           3             3        3\n",
              "2             5           5             5        5\n",
              "3             3           3             3        3\n",
              "4             2           2             2        2"
            ]
          },
          "execution_count": 45,
          "metadata": {},
          "output_type": "execute_result"
        }
      ],
      "source": [
        "base_predictions_train = pd.DataFrame( {\n",
        "    'DecisionTree': dt_train.ravel(),\n",
        "        'RandomForest': rf_train.ravel(),\n",
        "     'ExtraTrees': et_train.ravel(),\n",
        "     'XgBoost': xg_train.ravel(),\n",
        "    })\n",
        "base_predictions_train.head(5)"
      ]
    },
    {
      "cell_type": "code",
      "execution_count": null,
      "metadata": {
        "collapsed": true,
        "id": "3RZvgk0KVGQ5"
      },
      "outputs": [],
      "source": [
        "dt_train=dt_train.reshape(-1, 1)\n",
        "et_train=et_train.reshape(-1, 1)\n",
        "rf_train=rf_train.reshape(-1, 1)\n",
        "xg_train=xg_train.reshape(-1, 1)\n",
        "dt_test=dt_test.reshape(-1, 1)\n",
        "et_test=et_test.reshape(-1, 1)\n",
        "rf_test=rf_test.reshape(-1, 1)\n",
        "xg_test=xg_test.reshape(-1, 1)"
      ]
    },
    {
      "cell_type": "code",
      "execution_count": null,
      "metadata": {
        "collapsed": true,
        "id": "pN77Je3yVGQ5"
      },
      "outputs": [],
      "source": [
        "x_train = np.concatenate(( dt_train, et_train, rf_train, xg_train), axis=1)\n",
        "x_test = np.concatenate(( dt_test, et_test, rf_test, xg_test), axis=1)"
      ]
    },
    {
      "cell_type": "code",
      "execution_count": null,
      "metadata": {
        "id": "Rsr7_ogsVGQ5",
        "outputId": "c504c326-03f0-4209-8ab1-f6fd2363cf13"
      },
      "outputs": [
        {
          "name": "stdout",
          "output_type": "stream",
          "text": [
            "Accuracy of Stacking: 0.9955881055325156\n",
            "Precision of Stacking: 0.9955944258266153\n",
            "Recall of Stacking: 0.9955881055325156\n",
            "F1-score of Stacking: 0.9955625491897051\n",
            "              precision    recall  f1-score   support\n",
            "\n",
            "           0       0.99      1.00      1.00      4547\n",
            "           1       1.00      0.97      0.98       393\n",
            "           2       0.99      1.00      1.00       554\n",
            "           3       1.00      1.00      1.00      3807\n",
            "           4       1.00      0.71      0.83         7\n",
            "           5       0.99      1.00      1.00      1589\n",
            "           6       1.00      0.98      0.99       436\n",
            "\n",
            "    accuracy                           1.00     11333\n",
            "   macro avg       1.00      0.95      0.97     11333\n",
            "weighted avg       1.00      1.00      1.00     11333\n",
            "\n"
          ]
        },
        {
          "data": {
            "image/png": "[encoded data removed]",
            "text/plain": [
              "<Figure size 360x360 with 2 Axes>"
            ]
          },
          "metadata": {},
          "output_type": "display_data"
        }
      ],
      "source": [
        "stk = xgb.XGBClassifier().fit(x_train, y_train)\n",
        "y_predict=stk.predict(x_test)\n",
        "y_true=y_test\n",
        "stk_score=accuracy_score(y_true,y_predict)\n",
        "print('Accuracy of Stacking: '+ str(stk_score))\n",
        "precision,recall,fscore,none= precision_recall_fscore_support(y_true, y_predict, average='weighted') \n",
        "print('Precision of Stacking: '+(str(precision)))\n",
        "print('Recall of Stacking: '+(str(recall)))\n",
        "print('F1-score of Stacking: '+(str(fscore)))\n",
        "print(classification_report(y_true,y_predict))\n",
        "cm=confusion_matrix(y_true,y_predict)\n",
        "f,ax=plt.subplots(figsize=(5,5))\n",
        "sns.heatmap(cm,annot=True,linewidth=0.5,linecolor=\"red\",fmt=\".0f\",ax=ax)\n",
        "plt.xlabel(\"y_pred\")\n",
        "plt.ylabel(\"y_true\")\n",
        "plt.show()"
      ]
    },
    {
      "cell_type": "code",
      "execution_count": null,
      "metadata": {
        "collapsed": true,
        "id": "MMTecxG3VGQ5"
      },
      "outputs": [],
      "source": []
    }
  ],
  "metadata": {
    "anaconda-cloud": {},
    "kernelspec": {
      "display_name": "Python 3",
      "language": "python",
      "name": "python3"
    },
    "language_info": {
      "codemirror_mode": {
        "name": "ipython",
        "version": 3
      },
      "file_extension": ".py",
      "mimetype": "text/x-python",
      "name": "python",
      "nbconvert_exporter": "python",
      "pygments_lexer": "ipython3",
      "version": "3.6.8"
    },
    "toc": {
      "base_numbering": 1,
      "nav_menu": {},
      "number_sections": true,
      "sideBar": true,
      "skip_h1_title": false,
      "title_cell": "Table of Contents",
      "title_sidebar": "Contents",
      "toc_cell": false,
      "toc_position": {
        "height": "calc(100% - 180px)",
        "left": "10px",
        "top": "150px",
        "width": "328px"
      },
      "toc_section_display": true,
      "toc_window_display": true
    },
    "colab": {
      "provenance": [],
      "toc_visible": true,
      "include_colab_link": true
    }
  },
  "nbformat": 4,
  "nbformat_minor": 0
}